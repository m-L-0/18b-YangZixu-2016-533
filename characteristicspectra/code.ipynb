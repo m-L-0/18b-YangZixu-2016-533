{
 "cells": [
  {
   "cell_type": "code",
   "execution_count": 1,
   "metadata": {},
   "outputs": [
    {
     "name": "stderr",
     "output_type": "stream",
     "text": [
      "/home/yzx/test/lib/python3.5/site-packages/sklearn/cross_validation.py:41: DeprecationWarning: This module was deprecated in version 0.18 in favor of the model_selection module into which all the refactored classes and functions are moved. Also note that the interface of the new CV iterators are different from that of this module. This module will be removed in 0.20.\n",
      "  \"This module will be removed in 0.20.\", DeprecationWarning)\n",
      "/home/yzx/test/lib/python3.5/site-packages/sklearn/grid_search.py:42: DeprecationWarning: This module was deprecated in version 0.18 in favor of the model_selection module into which all the refactored classes and functions are moved. This module will be removed in 0.20.\n",
      "  DeprecationWarning)\n"
     ]
    }
   ],
   "source": [
    "import scipy.io\n",
    "import numpy as np\n",
    "from sklearn.discriminant_analysis import LinearDiscriminantAnalysis as LDA\n",
    "import xgboost as xgb\n",
    "from xgboost.sklearn import XGBClassifier\n",
    "from sklearn.metrics import accuracy_score\n",
    "from sklearn.decomposition import PCA,KernelPCA\n",
    "from sklearn.grid_search import GridSearchCV\n",
    "from sklearn import preprocessing\n",
    "from sklearn.model_selection import train_test_split\n",
    "#print(data.values())"
   ]
  },
  {
   "cell_type": "markdown",
   "metadata": {},
   "source": [
    "### 读取数据集"
   ]
  },
  {
   "cell_type": "code",
   "execution_count": 72,
   "metadata": {
    "scrolled": true
   },
   "outputs": [],
   "source": [
    "L=[2,3,5,6,8,10,11,12,14]\n",
    "num=[]\n",
    "data=np.empty(shape=[0,200])\n",
    "for i in L:\n",
    "    tmp=scipy.io.loadmat('./train9/data'+str(i)+'_train.mat')['data'+str(i)+'_train']\n",
    "    Len=tmp.shape[0]\n",
    "    num.append(Len)\n",
    "    data=np.append(data,tmp,axis=0)\n",
    "#print(data)\n",
    "num=np.array(num)\n",
    "\n",
    "#print(sum(L))\n"
   ]
  },
  {
   "cell_type": "markdown",
   "metadata": {},
   "source": [
    " ### 设置数据集对应的标签"
   ]
  },
  {
   "cell_type": "code",
   "execution_count": 73,
   "metadata": {},
   "outputs": [],
   "source": [
    "values=[]\n",
    "for i in range(9):\n",
    "    for j in range(num[i]):\n",
    "        values.append(i)\n",
    "values=np.array(values)"
   ]
  },
  {
   "cell_type": "markdown",
   "metadata": {},
   "source": [
    " ### 数据集划分成训练集和测试集,进行标准化预处理"
   ]
  },
  {
   "cell_type": "code",
   "execution_count": 74,
   "metadata": {},
   "outputs": [],
   "source": [
    "x_train,x_test,y_train,y_test=train_test_split(data,values,test_size=0.2,random_state=5)\n",
    "x_train=preprocessing.scale(x_train)\n",
    "x_test=preprocessing.scale(x_test)"
   ]
  },
  {
   "cell_type": "markdown",
   "metadata": {},
   "source": [
    "### gridsearch 调xgboost参数"
   ]
  },
  {
   "cell_type": "code",
   "execution_count": 80,
   "metadata": {},
   "outputs": [
    {
     "data": {
      "text/plain": [
       "\"\\ncv_params = {'max_depth':[x for x in range(1,20)],'min_child_weight':[x for x in range(1,10)], 'gamma':[0.1,0.2,0.3,0.4,0.5,0.6,0.7,0.8,0.9]}\\nother_params = {'max_depth':10,'min_child_weight':2, 'gamma':0.3,'learning_rate': 0.1, 'seed': 123, 'subsample': 0.8,'n_estimators':9, 'colsample_bytree': 0.8,'silent':1,'alpha':0.05}\\nmodel = xgb.XGBClassifier(**other_params)\\noptimized_GBM = GridSearchCV(estimator=model, param_grid=cv_params, scoring='accuracy', cv=5, verbose=1, n_jobs=4)\\noptimized_GBM.fit(x_train, y_train)\\nevalute_result = optimized_GBM.grid_scores_\\nprint('参数的最佳取值：{0}'.format(optimized_GBM.best_params_))\\nprint('最佳模型得分:{0}'.format(optimized_GBM.best_score_))\\n\""
      ]
     },
     "execution_count": 80,
     "metadata": {},
     "output_type": "execute_result"
    }
   ],
   "source": [
    "\n",
    "'''\n",
    "cv_params = {'max_depth':[x for x in range(1,20)],'min_child_weight':[x for x in range(1,10)], 'gamma':[0.1,0.2,0.3,0.4,0.5,0.6,0.7,0.8,0.9]}\n",
    "other_params = {'max_depth':10,'min_child_weight':2, 'gamma':0.3,'learning_rate': 0.1, 'seed': 123, 'subsample': 0.8,'n_estimators':9, 'colsample_bytree': 0.8,'silent':1,'alpha':0.05}\n",
    "model = xgb.XGBClassifier(**other_params)\n",
    "optimized_GBM = GridSearchCV(estimator=model, param_grid=cv_params, scoring='accuracy', cv=5, verbose=1, n_jobs=4)\n",
    "optimized_GBM.fit(x_train, y_train)\n",
    "evalute_result = optimized_GBM.grid_scores_\n",
    "print('参数的最佳取值：{0}'.format(optimized_GBM.best_params_))\n",
    "print('最佳模型得分:{0}'.format(optimized_GBM.best_score_))\n",
    "'''"
   ]
  },
  {
   "cell_type": "markdown",
   "metadata": {},
   "source": [
    "### 训练xgboost模型"
   ]
  },
  {
   "cell_type": "code",
   "execution_count": 79,
   "metadata": {},
   "outputs": [],
   "source": [
    "params = {\n",
    "    'booster': 'gbtree',\n",
    "    'objective': 'multi:softmax',\n",
    "    'num_class': 9,\n",
    "    'gamma': 0.4,\n",
    "    'max_depth': 11,\n",
    "    'lambda': 2,\n",
    "    'subsample': 0.8,\n",
    "    'colsample_bytree': 0.8,\n",
    "    'min_child_weight':3,\n",
    "    'silent': 1,\n",
    "    'eta': 0.1,\n",
    "    'seed': 100,\n",
    "    'n_estimators':9,\n",
    "    'alpha':0.05,\n",
    "    'learning_rate': 0.1\n",
    "}\n",
    "\n",
    "plst=params.items()\n",
    "Dtrain=xgb.DMatrix(x_train,y_train)\n",
    "num_round=42\n",
    "model=xgb.train(plst,Dtrain,num_round)"
   ]
  },
  {
   "cell_type": "markdown",
   "metadata": {},
   "source": [
    "### 计算正确率"
   ]
  },
  {
   "cell_type": "code",
   "execution_count": 81,
   "metadata": {},
   "outputs": [
    {
     "name": "stdout",
     "output_type": "stream",
     "text": [
      "Test Accuracy: 89.46%\n"
     ]
    }
   ],
   "source": [
    "dtest = xgb.DMatrix(x_test)\n",
    "ans = model.predict(dtest)\n",
    "test_accuracy=accuracy_score(y_test,ans)\n",
    "print(\"Test Accuracy: %.2f%%\" % (test_accuracy * 100.0))"
   ]
  },
  {
   "cell_type": "markdown",
   "metadata": {},
   "source": [
    "### 读取测试集并进行预测"
   ]
  },
  {
   "cell_type": "code",
   "execution_count": 82,
   "metadata": {},
   "outputs": [
    {
     "name": "stdout",
     "output_type": "stream",
     "text": [
      "[6. 5. 3. ... 5. 3. 6.]\n"
     ]
    },
    {
     "name": "stderr",
     "output_type": "stream",
     "text": [
      "/home/yzx/test/lib/python3.5/site-packages/sklearn/utils/validation.py:475: DataConversionWarning: Data with input dtype uint16 was converted to float64 by the scale function.\n",
      "  warnings.warn(msg, DataConversionWarning)\n"
     ]
    }
   ],
   "source": [
    "Test=scipy.io.loadmat('./data_test_final.mat')['data_test_final']\n",
    "Test=preprocessing.scale(Test)\n",
    "DTest=xgb.DMatrix(Test)\n",
    "ans=model.predict(DTest)\n",
    "ANS=np.empty(shape=(len(ans),))\n",
    "for i in range(len(ans)):\n",
    "    ANS[i]=L[int(ans[i])]\n",
    "#ANS 就是最后的结果集标签\n",
    "print(ANS)"
   ]
  }
 ],
 "metadata": {
  "kernelspec": {
   "display_name": "Python 3",
   "language": "python",
   "name": "python3"
  },
  "language_info": {
   "codemirror_mode": {
    "name": "ipython",
    "version": 3
   },
   "file_extension": ".py",
   "mimetype": "text/x-python",
   "name": "python",
   "nbconvert_exporter": "python",
   "pygments_lexer": "ipython3",
   "version": "3.5.2"
  }
 },
 "nbformat": 4,
 "nbformat_minor": 2
}
