{
 "cells": [
  {
   "cell_type": "code",
   "execution_count": 3,
   "metadata": {
    "scrolled": true
   },
   "outputs": [],
   "source": [
    "import numpy as np\n",
    "import tensorflow as tf\n",
    "from sklearn.datasets import load_iris\n",
    "from sklearn.model_selection import train_test_split\n",
    "from sklearn.model_selection import StratifiedShuffleSplit\n",
    "from sklearn.utils import shuffle"
   ]
  },
  {
   "cell_type": "markdown",
   "metadata": {},
   "source": [
    "### 加载数据集并打乱随机划分"
   ]
  },
  {
   "cell_type": "code",
   "execution_count": 4,
   "metadata": {},
   "outputs": [
    {
     "name": "stdout",
     "output_type": "stream",
     "text": [
      "(150, 4)\n"
     ]
    }
   ],
   "source": [
    "iris=load_iris()\n",
    "data=iris.data\n",
    "print(data.shape)\n",
    "value=iris.target\n",
    "data,value = shuffle(data,value)\n",
    "#x_train,x_test,y_train,y_test=train_test_split(data,value,test_size=0.2,random_state=0)\n",
    "train_idx, val_idx = next(iter( StratifiedShuffleSplit(n_splits=1, test_size=0.2, random_state=10).split(data,value)))\n",
    "x_train=data[train_idx]\n",
    "y_train=value[train_idx]\n",
    "x_test=data[val_idx]\n",
    "y_test=value[val_idx]\n",
    "#print(x_train)\n",
    "#print(y_train)\n",
    "#print(x_test)\n",
    "#print(y_test)"
   ]
  },
  {
   "cell_type": "markdown",
   "metadata": {},
   "source": [
    "### 选择占位符"
   ]
  },
  {
   "cell_type": "code",
   "execution_count": 45,
   "metadata": {},
   "outputs": [],
   "source": [
    "X1=tf.placeholder(\"float\",[120,4])\n",
    "X2=tf.placeholder(\"float\",[4])\n",
    "K=tf.placeholder(\"int32\")"
   ]
  },
  {
   "cell_type": "markdown",
   "metadata": {},
   "source": [
    "### 计算欧氏距离"
   ]
  },
  {
   "cell_type": "code",
   "execution_count": 46,
   "metadata": {},
   "outputs": [],
   "source": [
    "dist=tf.reduce_sum(tf.sqrt(tf.pow(X1-X2,2)),reduction_indices=1)\n",
    "#a=tf.pow((tf.pow(tf.constant([1,1,1,1]),2)),0.5)\n",
    "# 获取最大距离的索引\n",
    "pred=tf.nn.top_k(dist,120)\n",
    "#pred = tf.argmin(dist, 0)"
   ]
  },
  {
   "cell_type": "markdown",
   "metadata": {},
   "source": [
    "### 分类精确度"
   ]
  },
  {
   "cell_type": "code",
   "execution_count": 7,
   "metadata": {},
   "outputs": [],
   "source": [
    "accuracy = 0."
   ]
  },
  {
   "cell_type": "markdown",
   "metadata": {},
   "source": [
    "### 运行会话,训练+验证模型"
   ]
  },
  {
   "cell_type": "code",
   "execution_count": 44,
   "metadata": {},
   "outputs": [
    {
     "name": "stdout",
     "output_type": "stream",
     "text": [
      "K值为1时精确率:100.00%\n",
      "K值为2时精确率:90.00%\n",
      "K值为3时精确率:96.67%\n",
      "K值为4时精确率:93.33%\n",
      "K值为5时精确率:96.67%\n",
      "K值为6时精确率:93.33%\n",
      "K值为7时精确率:96.67%\n",
      "K值为8时精确率:96.67%\n",
      "K值为9时精确率:96.67%\n",
      "K值为10时精确率:96.67%\n"
     ]
    }
   ],
   "source": [
    "with tf.Session() as sess:\n",
    "    init = tf.global_variables_initializer()\n",
    "    sess.run(init)\n",
    "    #print(x_train)\n",
    "    for m in range(1,11):\n",
    "        accuracy = 0.\n",
    "        for i in range(30): \n",
    "            nn_index=sess.run(pred,feed_dict={X1:x_train,X2:x_test[i,:],K:m})\n",
    "            #print(nn_index.values)\n",
    "            #print(nn_index.indices)\n",
    "            Count={0:0,1:0,2:0}\n",
    "            Tmp=nn_index.indices[-m:,]\n",
    "            for j in Tmp:\n",
    "                Count[y_train[j]]+=1\n",
    "            key_name=max(Count,key=Count.get)\n",
    "            if key_name == y_test[i]:\n",
    "                accuracy += 1.0\n",
    "        print(\"K值为\"+str(m)+\"时精确率:%.2f%%\" % (accuracy/30*100))"
   ]
  },
  {
   "cell_type": "code",
   "execution_count": null,
   "metadata": {},
   "outputs": [],
   "source": []
  }
 ],
 "metadata": {
  "kernelspec": {
   "display_name": "Python 3",
   "language": "python",
   "name": "python3"
  },
  "language_info": {
   "codemirror_mode": {
    "name": "ipython",
    "version": 3
   },
   "file_extension": ".py",
   "mimetype": "text/x-python",
   "name": "python",
   "nbconvert_exporter": "python",
   "pygments_lexer": "ipython3",
   "version": "3.5.2"
  }
 },
 "nbformat": 4,
 "nbformat_minor": 2
}
